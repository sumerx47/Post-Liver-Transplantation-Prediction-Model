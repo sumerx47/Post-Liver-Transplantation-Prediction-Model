{
  "cells": [
    {
      "cell_type": "markdown",
      "metadata": {},
      "source": [
        "## Model Training"
      ]
    },
    {
      "cell_type": "markdown",
      "metadata": {},
      "source": [
        "#### 1.1 Import Data and Required Packages\n",
        "##### Importing Pandas, Numpy, Matplotlib, Seaborn and Warings Library."
      ]
    },
    {
      "cell_type": "code",
      "execution_count": 38,
      "metadata": {
        "colab": {
          "base_uri": "https://localhost:8080/"
        },
        "id": "7HS2KlpFHF_y",
        "outputId": "34cd0c4b-c62b-447a-933f-80a835306fa9"
      },
      "outputs": [
        {
          "name": "stdout",
          "output_type": "stream",
          "text": [
            "Collecting mysql-connector-python\n",
            "  Obtaining dependency information for mysql-connector-python from https://files.pythonhosted.org/packages/24/02/a5b6271da75cd7f67d9ec834cd79c8d65c1329e1eddfb707c56ded963d3d/mysql_connector_python-8.1.0-cp38-cp38-win_amd64.whl.metadata\n",
            "  Downloading mysql_connector_python-8.1.0-cp38-cp38-win_amd64.whl.metadata (2.1 kB)\n",
            "Collecting protobuf<=4.21.12,>=4.21.1 (from mysql-connector-python)\n",
            "  Downloading protobuf-4.21.12-cp38-cp38-win_amd64.whl (527 kB)\n",
            "     ---------------------------------------- 0.0/527.0 kB ? eta -:--:--\n",
            "     ---------------------------------------- 0.0/527.0 kB ? eta -:--:--\n",
            "      --------------------------------------- 10.2/527.0 kB ? eta -:--:--\n",
            "     -- ---------------------------------- 30.7/527.0 kB 330.3 kB/s eta 0:00:02\n",
            "     ------- ---------------------------- 112.6/527.0 kB 819.2 kB/s eta 0:00:01\n",
            "     ------------------------------- ------ 440.3/527.0 kB 2.5 MB/s eta 0:00:01\n",
            "     -------------------------------------- 527.0/527.0 kB 2.5 MB/s eta 0:00:00\n",
            "Downloading mysql_connector_python-8.1.0-cp38-cp38-win_amd64.whl (10.8 MB)\n",
            "   ---------------------------------------- 0.0/10.8 MB ? eta -:--:--\n",
            "   -- ------------------------------------- 0.6/10.8 MB 12.9 MB/s eta 0:00:01\n",
            "   -- ------------------------------------- 0.8/10.8 MB 10.0 MB/s eta 0:00:02\n",
            "   --- ------------------------------------ 0.9/10.8 MB 7.9 MB/s eta 0:00:02\n",
            "   --- ------------------------------------ 0.9/10.8 MB 7.9 MB/s eta 0:00:02\n",
            "   ---- ----------------------------------- 1.2/10.8 MB 4.9 MB/s eta 0:00:02\n",
            "   ----- ---------------------------------- 1.4/10.8 MB 4.7 MB/s eta 0:00:02\n",
            "   ------ --------------------------------- 1.6/10.8 MB 4.5 MB/s eta 0:00:03\n",
            "   ------ --------------------------------- 1.8/10.8 MB 4.5 MB/s eta 0:00:03\n",
            "   ------- -------------------------------- 1.9/10.8 MB 4.5 MB/s eta 0:00:02\n",
            "   ------- -------------------------------- 2.0/10.8 MB 4.3 MB/s eta 0:00:03\n",
            "   ------- -------------------------------- 2.0/10.8 MB 4.3 MB/s eta 0:00:03\n",
            "   --------- ------------------------------ 2.5/10.8 MB 4.3 MB/s eta 0:00:02\n",
            "   ---------- ----------------------------- 2.7/10.8 MB 4.2 MB/s eta 0:00:02\n",
            "   ---------- ----------------------------- 2.9/10.8 MB 4.2 MB/s eta 0:00:02\n",
            "   ----------- ---------------------------- 3.0/10.8 MB 4.2 MB/s eta 0:00:02\n",
            "   ----------- ---------------------------- 3.0/10.8 MB 4.2 MB/s eta 0:00:02\n",
            "   ----------- ---------------------------- 3.1/10.8 MB 3.8 MB/s eta 0:00:03\n",
            "   ------------- -------------------------- 3.6/10.8 MB 4.2 MB/s eta 0:00:02\n",
            "   -------------- ------------------------- 3.8/10.8 MB 4.2 MB/s eta 0:00:02\n",
            "   -------------- ------------------------- 4.0/10.8 MB 4.2 MB/s eta 0:00:02\n",
            "   --------------- ------------------------ 4.2/10.8 MB 4.1 MB/s eta 0:00:02\n",
            "   ---------------- ----------------------- 4.5/10.8 MB 4.1 MB/s eta 0:00:02\n",
            "   ----------------- ---------------------- 4.7/10.8 MB 4.1 MB/s eta 0:00:02\n",
            "   ----------------- ---------------------- 4.8/10.8 MB 4.1 MB/s eta 0:00:02\n",
            "   ------------------ --------------------- 5.0/10.8 MB 4.1 MB/s eta 0:00:02\n",
            "   ------------------- -------------------- 5.2/10.8 MB 4.1 MB/s eta 0:00:02\n",
            "   -------------------- ------------------- 5.5/10.8 MB 4.1 MB/s eta 0:00:02\n",
            "   --------------------- ------------------ 5.7/10.8 MB 4.0 MB/s eta 0:00:02\n",
            "   --------------------- ------------------ 5.9/10.8 MB 4.0 MB/s eta 0:00:02\n",
            "   ---------------------- ----------------- 6.1/10.8 MB 4.0 MB/s eta 0:00:02\n",
            "   ---------------------- ----------------- 6.2/10.8 MB 4.1 MB/s eta 0:00:02\n",
            "   ----------------------- ---------------- 6.4/10.8 MB 4.0 MB/s eta 0:00:02\n",
            "   ------------------------ --------------- 6.6/10.8 MB 4.0 MB/s eta 0:00:02\n",
            "   ------------------------- -------------- 6.9/10.8 MB 4.0 MB/s eta 0:00:01\n",
            "   -------------------------- ------------- 7.1/10.8 MB 4.0 MB/s eta 0:00:01\n",
            "   --------------------------- ------------ 7.4/10.8 MB 4.0 MB/s eta 0:00:01\n",
            "   ---------------------------- ----------- 7.6/10.8 MB 4.0 MB/s eta 0:00:01\n",
            "   ---------------------------- ----------- 7.8/10.8 MB 4.0 MB/s eta 0:00:01\n",
            "   ----------------------------- ---------- 8.1/10.8 MB 4.0 MB/s eta 0:00:01\n",
            "   ------------------------------ --------- 8.3/10.8 MB 4.0 MB/s eta 0:00:01\n",
            "   ------------------------------- -------- 8.4/10.8 MB 4.0 MB/s eta 0:00:01\n",
            "   ------------------------------- -------- 8.6/10.8 MB 4.0 MB/s eta 0:00:01\n",
            "   -------------------------------- ------- 8.9/10.8 MB 4.0 MB/s eta 0:00:01\n",
            "   --------------------------------- ------ 9.0/10.8 MB 4.0 MB/s eta 0:00:01\n",
            "   ---------------------------------- ----- 9.2/10.8 MB 4.0 MB/s eta 0:00:01\n",
            "   ---------------------------------- ----- 9.4/10.8 MB 4.0 MB/s eta 0:00:01\n",
            "   ----------------------------------- ---- 9.6/10.8 MB 4.0 MB/s eta 0:00:01\n",
            "   ------------------------------------ --- 9.7/10.8 MB 4.0 MB/s eta 0:00:01\n",
            "   ------------------------------------ --- 9.9/10.8 MB 4.0 MB/s eta 0:00:01\n",
            "   ------------------------------------- -- 10.1/10.8 MB 4.0 MB/s eta 0:00:01\n",
            "   -------------------------------------- - 10.3/10.8 MB 4.0 MB/s eta 0:00:01\n",
            "   -------------------------------------- - 10.5/10.8 MB 3.9 MB/s eta 0:00:01\n",
            "   ---------------------------------------  10.7/10.8 MB 3.8 MB/s eta 0:00:01\n",
            "   ---------------------------------------  10.8/10.8 MB 3.8 MB/s eta 0:00:01\n",
            "   ---------------------------------------  10.8/10.8 MB 3.8 MB/s eta 0:00:01\n",
            "   ---------------------------------------- 10.8/10.8 MB 3.6 MB/s eta 0:00:00\n",
            "Installing collected packages: protobuf, mysql-connector-python\n",
            "  Attempting uninstall: protobuf\n",
            "    Found existing installation: protobuf 4.23.4\n",
            "    Uninstalling protobuf-4.23.4:\n",
            "      Successfully uninstalled protobuf-4.23.4\n",
            "Successfully installed mysql-connector-python-8.1.0 protobuf-4.21.12\n",
            "Requirement already satisfied: feature-engine in c:\\users\\sumair\\anaconda3\\envs\\mlproject\\lib\\site-packages (1.6.1)\n",
            "Requirement already satisfied: numpy>=1.18.2 in c:\\users\\sumair\\anaconda3\\envs\\mlproject\\lib\\site-packages (from feature-engine) (1.24.4)\n",
            "Requirement already satisfied: pandas>=1.0.3 in c:\\users\\sumair\\anaconda3\\envs\\mlproject\\lib\\site-packages (from feature-engine) (2.0.3)\n",
            "Requirement already satisfied: scikit-learn>=1.0.0 in c:\\users\\sumair\\anaconda3\\envs\\mlproject\\lib\\site-packages (from feature-engine) (1.3.0)\n",
            "Requirement already satisfied: scipy>=1.4.1 in c:\\users\\sumair\\anaconda3\\envs\\mlproject\\lib\\site-packages (from feature-engine) (1.10.1)\n",
            "Requirement already satisfied: statsmodels>=0.11.1 in c:\\users\\sumair\\anaconda3\\envs\\mlproject\\lib\\site-packages (from feature-engine) (0.14.0)\n",
            "Requirement already satisfied: python-dateutil>=2.8.2 in c:\\users\\sumair\\anaconda3\\envs\\mlproject\\lib\\site-packages (from pandas>=1.0.3->feature-engine) (2.8.2)\n",
            "Requirement already satisfied: pytz>=2020.1 in c:\\users\\sumair\\anaconda3\\envs\\mlproject\\lib\\site-packages (from pandas>=1.0.3->feature-engine) (2022.7.1)\n",
            "Requirement already satisfied: tzdata>=2022.1 in c:\\users\\sumair\\anaconda3\\envs\\mlproject\\lib\\site-packages (from pandas>=1.0.3->feature-engine) (2023.3)\n",
            "Requirement already satisfied: joblib>=1.1.1 in c:\\users\\sumair\\anaconda3\\envs\\mlproject\\lib\\site-packages (from scikit-learn>=1.0.0->feature-engine) (1.3.1)\n",
            "Requirement already satisfied: threadpoolctl>=2.0.0 in c:\\users\\sumair\\anaconda3\\envs\\mlproject\\lib\\site-packages (from scikit-learn>=1.0.0->feature-engine) (3.2.0)\n",
            "Requirement already satisfied: patsy>=0.5.2 in c:\\users\\sumair\\anaconda3\\envs\\mlproject\\lib\\site-packages (from statsmodels>=0.11.1->feature-engine) (0.5.3)\n",
            "Requirement already satisfied: packaging>=21.3 in c:\\users\\sumair\\anaconda3\\envs\\mlproject\\lib\\site-packages (from statsmodels>=0.11.1->feature-engine) (23.1)\n",
            "Requirement already satisfied: six in c:\\users\\sumair\\anaconda3\\envs\\mlproject\\lib\\site-packages (from patsy>=0.5.2->statsmodels>=0.11.1->feature-engine) (1.16.0)\n",
            "Requirement already satisfied: scikit-learn in c:\\users\\sumair\\anaconda3\\envs\\mlproject\\lib\\site-packages (1.3.0)\n",
            "Collecting imbalanced-learn\n",
            "  Obtaining dependency information for imbalanced-learn from https://files.pythonhosted.org/packages/a3/9e/fbe60a768502af54563dcb59ca7856f5a8833b3ad5ada658922e1ab09b7f/imbalanced_learn-0.11.0-py3-none-any.whl.metadata\n",
            "  Downloading imbalanced_learn-0.11.0-py3-none-any.whl.metadata (8.3 kB)\n",
            "Requirement already satisfied: numpy>=1.17.3 in c:\\users\\sumair\\anaconda3\\envs\\mlproject\\lib\\site-packages (from scikit-learn) (1.24.4)\n",
            "Requirement already satisfied: scipy>=1.5.0 in c:\\users\\sumair\\anaconda3\\envs\\mlproject\\lib\\site-packages (from scikit-learn) (1.10.1)\n",
            "Requirement already satisfied: joblib>=1.1.1 in c:\\users\\sumair\\anaconda3\\envs\\mlproject\\lib\\site-packages (from scikit-learn) (1.3.1)\n",
            "Requirement already satisfied: threadpoolctl>=2.0.0 in c:\\users\\sumair\\anaconda3\\envs\\mlproject\\lib\\site-packages (from scikit-learn) (3.2.0)\n",
            "Downloading imbalanced_learn-0.11.0-py3-none-any.whl (235 kB)\n",
            "   ---------------------------------------- 0.0/235.6 kB ? eta -:--:--\n",
            "   ---------------------------------------- 0.0/235.6 kB ? eta -:--:--\n",
            "   - -------------------------------------- 10.2/235.6 kB ? eta -:--:--\n",
            "   ----- --------------------------------- 30.7/235.6 kB 435.7 kB/s eta 0:00:01\n",
            "   ---------- ---------------------------- 61.4/235.6 kB 544.7 kB/s eta 0:00:01\n",
            "   -------------------------- ----------- 163.8/235.6 kB 984.6 kB/s eta 0:00:01\n",
            "   ---------------------------------------- 235.6/235.6 kB 1.3 MB/s eta 0:00:00\n",
            "Installing collected packages: imbalanced-learn\n",
            "Successfully installed imbalanced-learn-0.11.0\n"
          ]
        }
      ],
      "source": [
        "#!pip install --upgrade scikit-learn\n",
        "!pip install mysql-connector-python\n",
        "!pip install feature-engine\n",
        "!pip install scikit-learn imbalanced-learn\n",
        "#!pip install --upgrade imbalanced-learn scikit-learn\n",
        "#!pip uninstall scikit-learn imbalanced-learn"
      ]
    },
    {
      "cell_type": "code",
      "execution_count": 21,
      "metadata": {
        "colab": {
          "base_uri": "https://localhost:8080/"
        },
        "id": "yEdfTVmiHKtw",
        "outputId": "63c329f0-7be9-4240-f6af-cb17f3e5198b"
      },
      "outputs": [
        {
          "name": "stdout",
          "output_type": "stream",
          "text": [
            "Collecting feature-engine\n",
            "  Obtaining dependency information for feature-engine from https://files.pythonhosted.org/packages/a3/1b/13e243aad6fcd559069b059c267db9ef8b843fc0afc443bf18cfcd9228e8/feature_engine-1.6.1-py2.py3-none-any.whl.metadata\n",
            "  Downloading feature_engine-1.6.1-py2.py3-none-any.whl.metadata (8.7 kB)\n",
            "Requirement already satisfied: numpy>=1.18.2 in c:\\users\\sumair\\anaconda3\\envs\\mlproject\\lib\\site-packages (from feature-engine) (1.24.4)\n",
            "Requirement already satisfied: pandas>=1.0.3 in c:\\users\\sumair\\anaconda3\\envs\\mlproject\\lib\\site-packages (from feature-engine) (2.0.3)\n",
            "Requirement already satisfied: scikit-learn>=1.0.0 in c:\\users\\sumair\\anaconda3\\envs\\mlproject\\lib\\site-packages (from feature-engine) (1.3.0)\n",
            "Requirement already satisfied: scipy>=1.4.1 in c:\\users\\sumair\\anaconda3\\envs\\mlproject\\lib\\site-packages (from feature-engine) (1.10.1)\n",
            "Collecting statsmodels>=0.11.1 (from feature-engine)\n",
            "  Downloading statsmodels-0.14.0-cp38-cp38-win_amd64.whl (9.4 MB)\n",
            "     ---------------------------------------- 0.0/9.4 MB ? eta -:--:--\n",
            "     ---------------------------------------- 0.0/9.4 MB ? eta -:--:--\n",
            "     ---------------------------------------- 0.0/9.4 MB ? eta -:--:--\n",
            "     ---------------------------------------- 0.1/9.4 MB 544.7 kB/s eta 0:00:18\n",
            "      --------------------------------------- 0.2/9.4 MB 1.3 MB/s eta 0:00:08\n",
            "     -- ------------------------------------- 0.6/9.4 MB 3.2 MB/s eta 0:00:03\n",
            "     ---- ----------------------------------- 0.9/9.4 MB 4.0 MB/s eta 0:00:03\n",
            "     ---- ----------------------------------- 1.1/9.4 MB 4.0 MB/s eta 0:00:03\n",
            "     ----- ---------------------------------- 1.2/9.4 MB 4.0 MB/s eta 0:00:03\n",
            "     ----- ---------------------------------- 1.2/9.4 MB 4.0 MB/s eta 0:00:03\n",
            "     ----- ---------------------------------- 1.4/9.4 MB 3.3 MB/s eta 0:00:03\n",
            "     ------- -------------------------------- 1.8/9.4 MB 4.0 MB/s eta 0:00:02\n",
            "     -------- ------------------------------- 2.0/9.4 MB 3.9 MB/s eta 0:00:02\n",
            "     --------- ------------------------------ 2.1/9.4 MB 3.9 MB/s eta 0:00:02\n",
            "     --------- ------------------------------ 2.1/9.4 MB 3.9 MB/s eta 0:00:02\n",
            "     --------- ------------------------------ 2.2/9.4 MB 3.3 MB/s eta 0:00:03\n",
            "     ---------- ----------------------------- 2.5/9.4 MB 3.6 MB/s eta 0:00:02\n",
            "     ----------- ---------------------------- 2.7/9.4 MB 3.5 MB/s eta 0:00:02\n",
            "     ------------ --------------------------- 3.0/9.4 MB 3.6 MB/s eta 0:00:02\n",
            "     ------------- -------------------------- 3.2/9.4 MB 3.6 MB/s eta 0:00:02\n",
            "     -------------- ------------------------- 3.4/9.4 MB 3.6 MB/s eta 0:00:02\n",
            "     -------------- ------------------------- 3.4/9.4 MB 3.6 MB/s eta 0:00:02\n",
            "     -------------- ------------------------- 3.4/9.4 MB 3.6 MB/s eta 0:00:02\n",
            "     --------------- ------------------------ 3.5/9.4 MB 3.3 MB/s eta 0:00:02\n",
            "     ---------------- ----------------------- 3.9/9.4 MB 3.5 MB/s eta 0:00:02\n",
            "     ----------------- ---------------------- 4.1/9.4 MB 3.5 MB/s eta 0:00:02\n",
            "     ------------------ --------------------- 4.2/9.4 MB 3.5 MB/s eta 0:00:02\n",
            "     ------------------ --------------------- 4.4/9.4 MB 3.5 MB/s eta 0:00:02\n",
            "     ------------------- -------------------- 4.6/9.4 MB 3.6 MB/s eta 0:00:02\n",
            "     -------------------- ------------------- 4.8/9.4 MB 3.6 MB/s eta 0:00:02\n",
            "     --------------------- ------------------ 5.0/9.4 MB 3.6 MB/s eta 0:00:02\n",
            "     ---------------------- ----------------- 5.2/9.4 MB 3.6 MB/s eta 0:00:02\n",
            "     ---------------------- ----------------- 5.3/9.4 MB 3.6 MB/s eta 0:00:02\n",
            "     ----------------------- ---------------- 5.5/9.4 MB 3.6 MB/s eta 0:00:02\n",
            "     ------------------------ --------------- 5.7/9.4 MB 3.6 MB/s eta 0:00:02\n",
            "     ------------------------- -------------- 5.9/9.4 MB 3.6 MB/s eta 0:00:01\n",
            "     ------------------------- -------------- 6.0/9.4 MB 3.6 MB/s eta 0:00:01\n",
            "     -------------------------- ------------- 6.3/9.4 MB 3.6 MB/s eta 0:00:01\n",
            "     --------------------------- ------------ 6.4/9.4 MB 3.6 MB/s eta 0:00:01\n",
            "     ---------------------------- ----------- 6.6/9.4 MB 3.7 MB/s eta 0:00:01\n",
            "     ---------------------------- ----------- 6.6/9.4 MB 3.7 MB/s eta 0:00:01\n",
            "     ---------------------------- ----------- 6.6/9.4 MB 3.5 MB/s eta 0:00:01\n",
            "     ----------------------------- ---------- 6.8/9.4 MB 3.5 MB/s eta 0:00:01\n",
            "     ------------------------------- -------- 7.3/9.4 MB 3.7 MB/s eta 0:00:01\n",
            "     -------------------------------- ------- 7.5/9.4 MB 3.7 MB/s eta 0:00:01\n",
            "     -------------------------------- ------- 7.7/9.4 MB 3.7 MB/s eta 0:00:01\n",
            "     --------------------------------- ------ 7.9/9.4 MB 3.7 MB/s eta 0:00:01\n",
            "     ---------------------------------- ----- 8.0/9.4 MB 3.7 MB/s eta 0:00:01\n",
            "     ---------------------------------- ----- 8.2/9.4 MB 3.7 MB/s eta 0:00:01\n",
            "     ------------------------------------ --- 8.4/9.4 MB 3.7 MB/s eta 0:00:01\n",
            "     ------------------------------------- -- 8.7/9.4 MB 3.7 MB/s eta 0:00:01\n",
            "     -------------------------------------- - 8.9/9.4 MB 3.7 MB/s eta 0:00:01\n",
            "     -------------------------------------- - 9.1/9.4 MB 3.7 MB/s eta 0:00:01\n",
            "     ---------------------------------------  9.2/9.4 MB 3.7 MB/s eta 0:00:01\n",
            "     ---------------------------------------  9.4/9.4 MB 3.7 MB/s eta 0:00:01\n",
            "     ---------------------------------------- 9.4/9.4 MB 3.7 MB/s eta 0:00:00\n",
            "Requirement already satisfied: python-dateutil>=2.8.2 in c:\\users\\sumair\\anaconda3\\envs\\mlproject\\lib\\site-packages (from pandas>=1.0.3->feature-engine) (2.8.2)\n",
            "Requirement already satisfied: pytz>=2020.1 in c:\\users\\sumair\\anaconda3\\envs\\mlproject\\lib\\site-packages (from pandas>=1.0.3->feature-engine) (2022.7.1)\n",
            "Requirement already satisfied: tzdata>=2022.1 in c:\\users\\sumair\\anaconda3\\envs\\mlproject\\lib\\site-packages (from pandas>=1.0.3->feature-engine) (2023.3)\n",
            "Requirement already satisfied: joblib>=1.1.1 in c:\\users\\sumair\\anaconda3\\envs\\mlproject\\lib\\site-packages (from scikit-learn>=1.0.0->feature-engine) (1.3.1)\n",
            "Requirement already satisfied: threadpoolctl>=2.0.0 in c:\\users\\sumair\\anaconda3\\envs\\mlproject\\lib\\site-packages (from scikit-learn>=1.0.0->feature-engine) (3.2.0)\n",
            "Collecting patsy>=0.5.2 (from statsmodels>=0.11.1->feature-engine)\n",
            "  Using cached patsy-0.5.3-py2.py3-none-any.whl (233 kB)\n",
            "Requirement already satisfied: packaging>=21.3 in c:\\users\\sumair\\anaconda3\\envs\\mlproject\\lib\\site-packages (from statsmodels>=0.11.1->feature-engine) (23.1)\n",
            "Requirement already satisfied: six in c:\\users\\sumair\\anaconda3\\envs\\mlproject\\lib\\site-packages (from patsy>=0.5.2->statsmodels>=0.11.1->feature-engine) (1.16.0)\n",
            "Using cached feature_engine-1.6.1-py2.py3-none-any.whl (326 kB)\n",
            "Installing collected packages: patsy, statsmodels, feature-engine\n",
            "Successfully installed feature-engine-1.6.1 patsy-0.5.3 statsmodels-0.14.0\n",
            "Collecting catboost\n",
            "  Using cached catboost-1.2-cp38-cp38-win_amd64.whl (101.0 MB)\n",
            "Collecting graphviz (from catboost)\n",
            "  Using cached graphviz-0.20.1-py3-none-any.whl (47 kB)\n",
            "Requirement already satisfied: matplotlib in c:\\users\\sumair\\anaconda3\\envs\\mlproject\\lib\\site-packages (from catboost) (3.7.2)\n",
            "Requirement already satisfied: numpy>=1.16.0 in c:\\users\\sumair\\anaconda3\\envs\\mlproject\\lib\\site-packages (from catboost) (1.24.4)\n",
            "Requirement already satisfied: pandas>=0.24 in c:\\users\\sumair\\anaconda3\\envs\\mlproject\\lib\\site-packages (from catboost) (2.0.3)\n",
            "Requirement already satisfied: scipy in c:\\users\\sumair\\anaconda3\\envs\\mlproject\\lib\\site-packages (from catboost) (1.10.1)\n",
            "Collecting plotly (from catboost)\n",
            "  Obtaining dependency information for plotly from https://files.pythonhosted.org/packages/a5/07/5bef9376c975ce23306d9217ab69ca94c07f2a3c90b17c03e3ae4db87170/plotly-5.15.0-py2.py3-none-any.whl.metadata\n",
            "  Using cached plotly-5.15.0-py2.py3-none-any.whl.metadata (7.0 kB)\n",
            "Requirement already satisfied: six in c:\\users\\sumair\\anaconda3\\envs\\mlproject\\lib\\site-packages (from catboost) (1.16.0)\n",
            "Requirement already satisfied: python-dateutil>=2.8.2 in c:\\users\\sumair\\anaconda3\\envs\\mlproject\\lib\\site-packages (from pandas>=0.24->catboost) (2.8.2)\n",
            "Requirement already satisfied: pytz>=2020.1 in c:\\users\\sumair\\anaconda3\\envs\\mlproject\\lib\\site-packages (from pandas>=0.24->catboost) (2022.7.1)\n",
            "Requirement already satisfied: tzdata>=2022.1 in c:\\users\\sumair\\anaconda3\\envs\\mlproject\\lib\\site-packages (from pandas>=0.24->catboost) (2023.3)\n",
            "Requirement already satisfied: contourpy>=1.0.1 in c:\\users\\sumair\\anaconda3\\envs\\mlproject\\lib\\site-packages (from matplotlib->catboost) (1.1.0)\n",
            "Requirement already satisfied: cycler>=0.10 in c:\\users\\sumair\\anaconda3\\envs\\mlproject\\lib\\site-packages (from matplotlib->catboost) (0.11.0)\n",
            "Requirement already satisfied: fonttools>=4.22.0 in c:\\users\\sumair\\anaconda3\\envs\\mlproject\\lib\\site-packages (from matplotlib->catboost) (4.41.1)\n",
            "Requirement already satisfied: kiwisolver>=1.0.1 in c:\\users\\sumair\\anaconda3\\envs\\mlproject\\lib\\site-packages (from matplotlib->catboost) (1.4.4)\n",
            "Requirement already satisfied: packaging>=20.0 in c:\\users\\sumair\\anaconda3\\envs\\mlproject\\lib\\site-packages (from matplotlib->catboost) (23.1)\n",
            "Requirement already satisfied: pillow>=6.2.0 in c:\\users\\sumair\\anaconda3\\envs\\mlproject\\lib\\site-packages (from matplotlib->catboost) (10.0.0)\n",
            "Requirement already satisfied: pyparsing<3.1,>=2.3.1 in c:\\users\\sumair\\anaconda3\\envs\\mlproject\\lib\\site-packages (from matplotlib->catboost) (3.0.9)\n",
            "Requirement already satisfied: importlib-resources>=3.2.0 in c:\\users\\sumair\\anaconda3\\envs\\mlproject\\lib\\site-packages (from matplotlib->catboost) (6.0.0)\n",
            "Collecting tenacity>=6.2.0 (from plotly->catboost)\n",
            "  Using cached tenacity-8.2.2-py3-none-any.whl (24 kB)\n",
            "Requirement already satisfied: zipp>=3.1.0 in c:\\users\\sumair\\anaconda3\\envs\\mlproject\\lib\\site-packages (from importlib-resources>=3.2.0->matplotlib->catboost) (3.16.2)\n",
            "Using cached plotly-5.15.0-py2.py3-none-any.whl (15.5 MB)\n",
            "Installing collected packages: tenacity, graphviz, plotly, catboost\n",
            "Successfully installed catboost-1.2 graphviz-0.20.1 plotly-5.15.0 tenacity-8.2.2\n"
          ]
        }
      ],
      "source": [
        "!pip install feature-engine\n",
        "!pip install seaborn\n",
        "!pip install xgboost\n",
        "!pip install catboost\n",
        "!pip install catboost"
      ]
    },
    {
      "cell_type": "code",
      "execution_count": 3,
      "metadata": {
        "id": "UNSEXrqa2ctH"
      },
      "outputs": [],
      "source": [
        "import pandas as pd                   # Data Manipulation\n",
        "import numpy as np                    # Numeric Calculation\n",
        "import seaborn as sns                 # Advance Data Visualization\n",
        "import matplotlib.pyplot as plt       # Data Visualization\n",
        "import scipy.stats as stats\n",
        "import pylab\n",
        "from sklearn.impute import SimpleImputer        #Imputation\n",
        "from sklearn.compose import ColumnTransformer   #Column Trasformer\n",
        "from sklearn.preprocessing import LabelEncoder  # Label Encoder\n",
        "from sklearn.preprocessing import MinMaxScaler  # MinMax Scalar\n",
        "import warnings   # Warnings\n",
        "warnings.filterwarnings('ignore')\n",
        "# Accuracy\n",
        "from sklearn.metrics import accuracy_score, confusion_matrix, classification_report, roc_curve, roc_auc_score\n",
        "import sklearn.metrics as skmet   # Confusion matrix\n",
        "from imblearn.over_sampling import SMOTE\n",
        "from feature_engine.outliers import Winsorizer    # Outlier treatment\n",
        "#import mysql.connector as sql   # for SQL connection"
      ]
    },
    {
      "cell_type": "code",
      "execution_count": 4,
      "metadata": {
        "id": "XBTfe406INuF"
      },
      "outputs": [],
      "source": [
        "# Modelling\n",
        "from sklearn.metrics import mean_squared_error, r2_score\n",
        "from sklearn.neighbors import KNeighborsRegressor\n",
        "from sklearn.tree import DecisionTreeRegressor\n",
        "from sklearn.ensemble import RandomForestRegressor,AdaBoostRegressor\n",
        "from sklearn.svm import SVR\n",
        "from sklearn.linear_model import LinearRegression, Ridge,Lasso\n",
        "from sklearn.metrics import r2_score, mean_absolute_error, mean_squared_error\n",
        "from sklearn.model_selection import RandomizedSearchCV\n",
        "from catboost import CatBoostRegressor\n",
        "from xgboost import XGBRegressor\n",
        "import warnings"
      ]
    },
    {
      "cell_type": "markdown",
      "metadata": {},
      "source": [
        "#### Import the CSV Data as Pandas DataFrame"
      ]
    },
    {
      "cell_type": "code",
      "execution_count": 5,
      "metadata": {
        "id": "x9hNssFR2cqq"
      },
      "outputs": [],
      "source": [
        "\n",
        "df=pd.read_csv('data\\LiverT_dataset.csv')\n"
      ]
    },
    {
      "cell_type": "markdown",
      "metadata": {},
      "source": [
        "#### Show Top 5 Records"
      ]
    },
    {
      "cell_type": "code",
      "execution_count": 6,
      "metadata": {
        "colab": {
          "base_uri": "https://localhost:8080/",
          "height": 421
        },
        "id": "fbOzkeNEIYu_",
        "outputId": "efae88ff-1a37-4351-8def-98b6483f081e"
      },
      "outputs": [
        {
          "data": {
            "text/html": [
              "<div>\n",
              "<style scoped>\n",
              "    .dataframe tbody tr th:only-of-type {\n",
              "        vertical-align: middle;\n",
              "    }\n",
              "\n",
              "    .dataframe tbody tr th {\n",
              "        vertical-align: top;\n",
              "    }\n",
              "\n",
              "    .dataframe thead th {\n",
              "        text-align: right;\n",
              "    }\n",
              "</style>\n",
              "<table border=\"1\" class=\"dataframe\">\n",
              "  <thead>\n",
              "    <tr style=\"text-align: right;\">\n",
              "      <th></th>\n",
              "      <th>Column1</th>\n",
              "      <th>D Age</th>\n",
              "      <th>D Gender</th>\n",
              "      <th>D BMI</th>\n",
              "      <th>D Cause of Death</th>\n",
              "      <th>D Diabetes</th>\n",
              "      <th>D Hypertension</th>\n",
              "      <th>D Alcohol Abuse</th>\n",
              "      <th>D Smoking</th>\n",
              "      <th>D Lympochyte</th>\n",
              "      <th>...</th>\n",
              "      <th>R Na</th>\n",
              "      <th>R Mg</th>\n",
              "      <th>R WBC</th>\n",
              "      <th>R Platelets</th>\n",
              "      <th>R Cold Ischemia Time</th>\n",
              "      <th>R Warm Ischemia Time</th>\n",
              "      <th>R Blood Transfusion</th>\n",
              "      <th>R Immunosuppressant Medication</th>\n",
              "      <th>R Rejection Episodes</th>\n",
              "      <th>Complications</th>\n",
              "    </tr>\n",
              "  </thead>\n",
              "  <tbody>\n",
              "    <tr>\n",
              "      <th>0</th>\n",
              "      <td>0</td>\n",
              "      <td>40</td>\n",
              "      <td>Female</td>\n",
              "      <td>32.2</td>\n",
              "      <td>Stroke</td>\n",
              "      <td>1</td>\n",
              "      <td>1</td>\n",
              "      <td>1</td>\n",
              "      <td>0</td>\n",
              "      <td>0</td>\n",
              "      <td>...</td>\n",
              "      <td>5.9</td>\n",
              "      <td>1.5</td>\n",
              "      <td>21310</td>\n",
              "      <td>426232</td>\n",
              "      <td>3.9</td>\n",
              "      <td>2.1</td>\n",
              "      <td>0.0</td>\n",
              "      <td>Cyclosporine</td>\n",
              "      <td>3</td>\n",
              "      <td>Infection</td>\n",
              "    </tr>\n",
              "    <tr>\n",
              "      <th>1</th>\n",
              "      <td>1</td>\n",
              "      <td>45</td>\n",
              "      <td>Female</td>\n",
              "      <td>32.1</td>\n",
              "      <td>Other</td>\n",
              "      <td>0</td>\n",
              "      <td>0</td>\n",
              "      <td>0</td>\n",
              "      <td>0</td>\n",
              "      <td>1</td>\n",
              "      <td>...</td>\n",
              "      <td>1.8</td>\n",
              "      <td>0.3</td>\n",
              "      <td>19471</td>\n",
              "      <td>414357</td>\n",
              "      <td>3.4</td>\n",
              "      <td>3.0</td>\n",
              "      <td>0.0</td>\n",
              "      <td>Cyclosporine</td>\n",
              "      <td>1</td>\n",
              "      <td>Artery Thrombosis</td>\n",
              "    </tr>\n",
              "    <tr>\n",
              "      <th>2</th>\n",
              "      <td>2</td>\n",
              "      <td>21</td>\n",
              "      <td>Male</td>\n",
              "      <td>26.3</td>\n",
              "      <td>Accident</td>\n",
              "      <td>1</td>\n",
              "      <td>1</td>\n",
              "      <td>0</td>\n",
              "      <td>1</td>\n",
              "      <td>1</td>\n",
              "      <td>...</td>\n",
              "      <td>17.1</td>\n",
              "      <td>1.4</td>\n",
              "      <td>9204</td>\n",
              "      <td>292844</td>\n",
              "      <td>7.2</td>\n",
              "      <td>2.8</td>\n",
              "      <td>NaN</td>\n",
              "      <td>Tacrolimus</td>\n",
              "      <td>4</td>\n",
              "      <td>Post-transplant Diabetes</td>\n",
              "    </tr>\n",
              "    <tr>\n",
              "      <th>3</th>\n",
              "      <td>3</td>\n",
              "      <td>41</td>\n",
              "      <td>Female</td>\n",
              "      <td>39.3</td>\n",
              "      <td>Other</td>\n",
              "      <td>1</td>\n",
              "      <td>1</td>\n",
              "      <td>1</td>\n",
              "      <td>0</td>\n",
              "      <td>1</td>\n",
              "      <td>...</td>\n",
              "      <td>18.7</td>\n",
              "      <td>1.3</td>\n",
              "      <td>24350</td>\n",
              "      <td>190143</td>\n",
              "      <td>11.0</td>\n",
              "      <td>2.5</td>\n",
              "      <td>0.0</td>\n",
              "      <td>Other</td>\n",
              "      <td>0</td>\n",
              "      <td>Post-transplant Diabetes</td>\n",
              "    </tr>\n",
              "    <tr>\n",
              "      <th>4</th>\n",
              "      <td>4</td>\n",
              "      <td>66</td>\n",
              "      <td>Female</td>\n",
              "      <td>38.4</td>\n",
              "      <td>Accident</td>\n",
              "      <td>1</td>\n",
              "      <td>1</td>\n",
              "      <td>1</td>\n",
              "      <td>0</td>\n",
              "      <td>0</td>\n",
              "      <td>...</td>\n",
              "      <td>7.8</td>\n",
              "      <td>1.2</td>\n",
              "      <td>14871</td>\n",
              "      <td>403780</td>\n",
              "      <td>2.7</td>\n",
              "      <td>1.5</td>\n",
              "      <td>1.0</td>\n",
              "      <td>Other</td>\n",
              "      <td>3</td>\n",
              "      <td>Renal Dysfunction</td>\n",
              "    </tr>\n",
              "  </tbody>\n",
              "</table>\n",
              "<p>5 rows × 37 columns</p>\n",
              "</div>"
            ],
            "text/plain": [
              "   Column1  D Age D Gender  D BMI D Cause of Death  D Diabetes  \\\n",
              "0        0     40   Female   32.2           Stroke           1   \n",
              "1        1     45   Female   32.1            Other           0   \n",
              "2        2     21     Male   26.3         Accident           1   \n",
              "3        3     41   Female   39.3            Other           1   \n",
              "4        4     66   Female   38.4         Accident           1   \n",
              "\n",
              "   D Hypertension  D Alcohol Abuse  D Smoking  D Lympochyte  ...  R Na  R Mg  \\\n",
              "0               1                1          0             0  ...   5.9   1.5   \n",
              "1               0                0          0             1  ...   1.8   0.3   \n",
              "2               1                0          1             1  ...  17.1   1.4   \n",
              "3               1                1          0             1  ...  18.7   1.3   \n",
              "4               1                1          0             0  ...   7.8   1.2   \n",
              "\n",
              "   R WBC  R Platelets  R Cold Ischemia Time R Warm Ischemia Time  \\\n",
              "0  21310       426232                   3.9                  2.1   \n",
              "1  19471       414357                   3.4                  3.0   \n",
              "2   9204       292844                   7.2                  2.8   \n",
              "3  24350       190143                  11.0                  2.5   \n",
              "4  14871       403780                   2.7                  1.5   \n",
              "\n",
              "   R Blood Transfusion  R Immunosuppressant Medication  R Rejection Episodes  \\\n",
              "0                  0.0                    Cyclosporine                     3   \n",
              "1                  0.0                    Cyclosporine                     1   \n",
              "2                  NaN                      Tacrolimus                     4   \n",
              "3                  0.0                           Other                     0   \n",
              "4                  1.0                           Other                     3   \n",
              "\n",
              "              Complications  \n",
              "0                 Infection  \n",
              "1         Artery Thrombosis  \n",
              "2  Post-transplant Diabetes  \n",
              "3  Post-transplant Diabetes  \n",
              "4         Renal Dysfunction  \n",
              "\n",
              "[5 rows x 37 columns]"
            ]
          },
          "execution_count": 6,
          "metadata": {},
          "output_type": "execute_result"
        }
      ],
      "source": [
        "df.head()"
      ]
    },
    {
      "cell_type": "markdown",
      "metadata": {},
      "source": [
        "#### Drop unnecessary columns"
      ]
    },
    {
      "cell_type": "code",
      "execution_count": 8,
      "metadata": {
        "id": "-_awu6ka2clE"
      },
      "outputs": [],
      "source": [
        "df1 = df.drop(['Column1'], axis = 1)"
      ]
    },
    {
      "cell_type": "markdown",
      "metadata": {},
      "source": [
        "#### Handling Duplicates"
      ]
    },
    {
      "cell_type": "code",
      "execution_count": 9,
      "metadata": {
        "colab": {
          "base_uri": "https://localhost:8080/"
        },
        "id": "G4ugO2mP2z1I",
        "outputId": "6b3ef616-7681-4afb-a489-37daa9051932"
      },
      "outputs": [
        {
          "data": {
            "text/plain": [
              "0"
            ]
          },
          "execution_count": 9,
          "metadata": {},
          "output_type": "execute_result"
        }
      ],
      "source": [
        "df1.duplicated().sum()\n",
        "df2 = df1.drop_duplicates()\n",
        "df2.duplicated().sum()"
      ]
    },
    {
      "cell_type": "markdown",
      "metadata": {},
      "source": [
        "#### Check for missing/Null values"
      ]
    },
    {
      "cell_type": "code",
      "execution_count": 10,
      "metadata": {
        "colab": {
          "base_uri": "https://localhost:8080/"
        },
        "id": "vd9On_rO2zyK",
        "outputId": "b7a8f798-65fd-45ea-969e-7cd9d94234e0"
      },
      "outputs": [
        {
          "data": {
            "text/plain": [
              "D Age                             0\n",
              "D Gender                          0\n",
              "D BMI                             0\n",
              "D Cause of Death                  0\n",
              "D Diabetes                        0\n",
              "D Hypertension                    0\n",
              "D Alcohol Abuse                   0\n",
              "D Smoking                         0\n",
              "D Lympochyte                      0\n",
              "D Hepatitis B                     1\n",
              "D Hepatitis C                     0\n",
              "R Etiology                        1\n",
              "R MELD Score                      0\n",
              "R Age                             0\n",
              "R Gender                          1\n",
              "R BMI                             1\n",
              "R Diabetes                        0\n",
              "R Hypertension                    0\n",
              "R Alcohol Abuse                   0\n",
              "R Smoking                         0\n",
              "R Lympochyte                      1\n",
              "R Hepatitis B                     0\n",
              "R Hepatitis C                     0\n",
              "R Albumin level                   0\n",
              "R Alcoholic cirrhosis             0\n",
              "R Primary biliary cirrhosis       0\n",
              "R Na                              0\n",
              "R Mg                              0\n",
              "R WBC                             0\n",
              "R Platelets                       0\n",
              "R Cold Ischemia Time              0\n",
              "R Warm Ischemia Time              0\n",
              "R Blood Transfusion               1\n",
              "R Immunosuppressant Medication    0\n",
              "R Rejection Episodes              0\n",
              "Complications                     0\n",
              "dtype: int64"
            ]
          },
          "execution_count": 10,
          "metadata": {},
          "output_type": "execute_result"
        }
      ],
      "source": [
        "df2.isnull().sum()"
      ]
    },
    {
      "cell_type": "markdown",
      "metadata": {},
      "source": [
        "#### Handle missing values"
      ]
    },
    {
      "cell_type": "code",
      "execution_count": 11,
      "metadata": {
        "colab": {
          "base_uri": "https://localhost:8080/"
        },
        "id": "QAmHhzlV2zvW",
        "outputId": "77bbd8cb-55c9-419c-965f-1103126fa71b"
      },
      "outputs": [
        {
          "data": {
            "text/plain": [
              "D Age                             0\n",
              "D Gender                          0\n",
              "D BMI                             0\n",
              "D Cause of Death                  0\n",
              "D Diabetes                        0\n",
              "D Hypertension                    0\n",
              "D Alcohol Abuse                   0\n",
              "D Smoking                         0\n",
              "D Lympochyte                      0\n",
              "D Hepatitis B                     0\n",
              "D Hepatitis C                     0\n",
              "R Etiology                        0\n",
              "R MELD Score                      0\n",
              "R Age                             0\n",
              "R Gender                          0\n",
              "R BMI                             0\n",
              "R Diabetes                        0\n",
              "R Hypertension                    0\n",
              "R Alcohol Abuse                   0\n",
              "R Smoking                         0\n",
              "R Lympochyte                      0\n",
              "R Hepatitis B                     0\n",
              "R Hepatitis C                     0\n",
              "R Albumin level                   0\n",
              "R Alcoholic cirrhosis             0\n",
              "R Primary biliary cirrhosis       0\n",
              "R Na                              0\n",
              "R Mg                              0\n",
              "R WBC                             0\n",
              "R Platelets                       0\n",
              "R Cold Ischemia Time              0\n",
              "R Warm Ischemia Time              0\n",
              "R Blood Transfusion               0\n",
              "R Immunosuppressant Medication    0\n",
              "R Rejection Episodes              0\n",
              "Complications                     0\n",
              "dtype: int64"
            ]
          },
          "execution_count": 11,
          "metadata": {},
          "output_type": "execute_result"
        }
      ],
      "source": [
        "imputer = SimpleImputer(strategy='median')\n",
        "numerical_cols = df2.select_dtypes(include=np.number).columns\n",
        "categorical_cols = df2.select_dtypes(exclude=np.number).columns\n",
        "\n",
        "df2[numerical_cols] = imputer.fit_transform(df2[numerical_cols])\n",
        "\n",
        "for col in categorical_cols:\n",
        "    df2[col].fillna(df2[col].mode()[0], inplace=True)\n",
        "\n",
        "# Check for missing/Null values\n",
        "df2.isnull().sum()"
      ]
    },
    {
      "cell_type": "markdown",
      "metadata": {},
      "source": [
        "#### Apply Winsorization to numerical columns"
      ]
    },
    {
      "cell_type": "code",
      "execution_count": 12,
      "metadata": {
        "id": "SU5f5rBfLB1f"
      },
      "outputs": [],
      "source": [
        "winsorizer = Winsorizer(capping_method='gaussian', tail='both', fold=0.5)\n",
        "df3 = winsorizer.fit_transform(df2)"
      ]
    },
    {
      "cell_type": "markdown",
      "metadata": {},
      "source": [
        "#### Preparing X and Y variables"
      ]
    },
    {
      "cell_type": "code",
      "execution_count": 13,
      "metadata": {
        "id": "UQTqy_afKzT_"
      },
      "outputs": [],
      "source": [
        "X = df3.drop(columns=['Complications'],axis=1)"
      ]
    },
    {
      "cell_type": "code",
      "execution_count": 14,
      "metadata": {
        "colab": {
          "base_uri": "https://localhost:8080/",
          "height": 351
        },
        "id": "aOXMUj7-Lxee",
        "outputId": "ff87e07d-5e87-4f46-942a-450919ec1d71"
      },
      "outputs": [
        {
          "data": {
            "text/html": [
              "<div>\n",
              "<style scoped>\n",
              "    .dataframe tbody tr th:only-of-type {\n",
              "        vertical-align: middle;\n",
              "    }\n",
              "\n",
              "    .dataframe tbody tr th {\n",
              "        vertical-align: top;\n",
              "    }\n",
              "\n",
              "    .dataframe thead th {\n",
              "        text-align: right;\n",
              "    }\n",
              "</style>\n",
              "<table border=\"1\" class=\"dataframe\">\n",
              "  <thead>\n",
              "    <tr style=\"text-align: right;\">\n",
              "      <th></th>\n",
              "      <th>D Age</th>\n",
              "      <th>D Gender</th>\n",
              "      <th>D BMI</th>\n",
              "      <th>D Cause of Death</th>\n",
              "      <th>D Diabetes</th>\n",
              "      <th>D Hypertension</th>\n",
              "      <th>D Alcohol Abuse</th>\n",
              "      <th>D Smoking</th>\n",
              "      <th>D Lympochyte</th>\n",
              "      <th>D Hepatitis B</th>\n",
              "      <th>...</th>\n",
              "      <th>R Primary biliary cirrhosis</th>\n",
              "      <th>R Na</th>\n",
              "      <th>R Mg</th>\n",
              "      <th>R WBC</th>\n",
              "      <th>R Platelets</th>\n",
              "      <th>R Cold Ischemia Time</th>\n",
              "      <th>R Warm Ischemia Time</th>\n",
              "      <th>R Blood Transfusion</th>\n",
              "      <th>R Immunosuppressant Medication</th>\n",
              "      <th>R Rejection Episodes</th>\n",
              "    </tr>\n",
              "  </thead>\n",
              "  <tbody>\n",
              "    <tr>\n",
              "      <th>0</th>\n",
              "      <td>40.000000</td>\n",
              "      <td>Female</td>\n",
              "      <td>32.200000</td>\n",
              "      <td>Stroke</td>\n",
              "      <td>0.956261</td>\n",
              "      <td>0.995303</td>\n",
              "      <td>0.714296</td>\n",
              "      <td>0.022140</td>\n",
              "      <td>0.366022</td>\n",
              "      <td>0.74223</td>\n",
              "      <td>...</td>\n",
              "      <td>5.414702</td>\n",
              "      <td>5.900000</td>\n",
              "      <td>1.442840</td>\n",
              "      <td>17246.381173</td>\n",
              "      <td>345056.807840</td>\n",
              "      <td>5.497232</td>\n",
              "      <td>2.40462</td>\n",
              "      <td>0.24229</td>\n",
              "      <td>Cyclosporine</td>\n",
              "      <td>3.000000</td>\n",
              "    </tr>\n",
              "    <tr>\n",
              "      <th>1</th>\n",
              "      <td>45.000000</td>\n",
              "      <td>Female</td>\n",
              "      <td>32.100000</td>\n",
              "      <td>Other</td>\n",
              "      <td>0.515360</td>\n",
              "      <td>0.589836</td>\n",
              "      <td>0.215529</td>\n",
              "      <td>0.022140</td>\n",
              "      <td>0.853793</td>\n",
              "      <td>0.24229</td>\n",
              "      <td>...</td>\n",
              "      <td>7.300000</td>\n",
              "      <td>5.161814</td>\n",
              "      <td>0.534663</td>\n",
              "      <td>17246.381173</td>\n",
              "      <td>345056.807840</td>\n",
              "      <td>5.497232</td>\n",
              "      <td>3.00000</td>\n",
              "      <td>0.24229</td>\n",
              "      <td>Cyclosporine</td>\n",
              "      <td>1.653280</td>\n",
              "    </tr>\n",
              "    <tr>\n",
              "      <th>2</th>\n",
              "      <td>36.645540</td>\n",
              "      <td>Male</td>\n",
              "      <td>26.300000</td>\n",
              "      <td>Accident</td>\n",
              "      <td>0.956261</td>\n",
              "      <td>0.995303</td>\n",
              "      <td>0.215529</td>\n",
              "      <td>0.445352</td>\n",
              "      <td>0.853793</td>\n",
              "      <td>0.24229</td>\n",
              "      <td>...</td>\n",
              "      <td>5.414702</td>\n",
              "      <td>14.677711</td>\n",
              "      <td>1.400000</td>\n",
              "      <td>10867.600251</td>\n",
              "      <td>292844.000000</td>\n",
              "      <td>7.200000</td>\n",
              "      <td>2.80000</td>\n",
              "      <td>0.24229</td>\n",
              "      <td>Tacrolimus</td>\n",
              "      <td>3.358072</td>\n",
              "    </tr>\n",
              "    <tr>\n",
              "      <th>3</th>\n",
              "      <td>41.000000</td>\n",
              "      <td>Female</td>\n",
              "      <td>32.243567</td>\n",
              "      <td>Other</td>\n",
              "      <td>0.956261</td>\n",
              "      <td>0.995303</td>\n",
              "      <td>0.714296</td>\n",
              "      <td>0.022140</td>\n",
              "      <td>0.853793</td>\n",
              "      <td>0.74223</td>\n",
              "      <td>...</td>\n",
              "      <td>5.414702</td>\n",
              "      <td>14.677711</td>\n",
              "      <td>1.300000</td>\n",
              "      <td>17246.381173</td>\n",
              "      <td>258929.946546</td>\n",
              "      <td>8.334038</td>\n",
              "      <td>2.50000</td>\n",
              "      <td>0.24229</td>\n",
              "      <td>Other</td>\n",
              "      <td>1.653280</td>\n",
              "    </tr>\n",
              "    <tr>\n",
              "      <th>4</th>\n",
              "      <td>51.725977</td>\n",
              "      <td>Female</td>\n",
              "      <td>32.243567</td>\n",
              "      <td>Accident</td>\n",
              "      <td>0.956261</td>\n",
              "      <td>0.995303</td>\n",
              "      <td>0.714296</td>\n",
              "      <td>0.022140</td>\n",
              "      <td>0.366022</td>\n",
              "      <td>0.24229</td>\n",
              "      <td>...</td>\n",
              "      <td>12.991800</td>\n",
              "      <td>7.800000</td>\n",
              "      <td>1.200000</td>\n",
              "      <td>14871.000000</td>\n",
              "      <td>345056.807840</td>\n",
              "      <td>5.497232</td>\n",
              "      <td>2.40462</td>\n",
              "      <td>0.74223</td>\n",
              "      <td>Other</td>\n",
              "      <td>3.000000</td>\n",
              "    </tr>\n",
              "  </tbody>\n",
              "</table>\n",
              "<p>5 rows × 35 columns</p>\n",
              "</div>"
            ],
            "text/plain": [
              "       D Age D Gender      D BMI D Cause of Death  D Diabetes  D Hypertension  \\\n",
              "0  40.000000   Female  32.200000           Stroke    0.956261        0.995303   \n",
              "1  45.000000   Female  32.100000            Other    0.515360        0.589836   \n",
              "2  36.645540     Male  26.300000         Accident    0.956261        0.995303   \n",
              "3  41.000000   Female  32.243567            Other    0.956261        0.995303   \n",
              "4  51.725977   Female  32.243567         Accident    0.956261        0.995303   \n",
              "\n",
              "   D Alcohol Abuse  D Smoking  D Lympochyte  D Hepatitis B  ...  \\\n",
              "0         0.714296   0.022140      0.366022        0.74223  ...   \n",
              "1         0.215529   0.022140      0.853793        0.24229  ...   \n",
              "2         0.215529   0.445352      0.853793        0.24229  ...   \n",
              "3         0.714296   0.022140      0.853793        0.74223  ...   \n",
              "4         0.714296   0.022140      0.366022        0.24229  ...   \n",
              "\n",
              "   R Primary biliary cirrhosis       R Na      R Mg         R WBC  \\\n",
              "0                     5.414702   5.900000  1.442840  17246.381173   \n",
              "1                     7.300000   5.161814  0.534663  17246.381173   \n",
              "2                     5.414702  14.677711  1.400000  10867.600251   \n",
              "3                     5.414702  14.677711  1.300000  17246.381173   \n",
              "4                    12.991800   7.800000  1.200000  14871.000000   \n",
              "\n",
              "     R Platelets  R Cold Ischemia Time  R Warm Ischemia Time  \\\n",
              "0  345056.807840              5.497232               2.40462   \n",
              "1  345056.807840              5.497232               3.00000   \n",
              "2  292844.000000              7.200000               2.80000   \n",
              "3  258929.946546              8.334038               2.50000   \n",
              "4  345056.807840              5.497232               2.40462   \n",
              "\n",
              "   R Blood Transfusion  R Immunosuppressant Medication  R Rejection Episodes  \n",
              "0              0.24229                    Cyclosporine              3.000000  \n",
              "1              0.24229                    Cyclosporine              1.653280  \n",
              "2              0.24229                      Tacrolimus              3.358072  \n",
              "3              0.24229                           Other              1.653280  \n",
              "4              0.74223                           Other              3.000000  \n",
              "\n",
              "[5 rows x 35 columns]"
            ]
          },
          "execution_count": 14,
          "metadata": {},
          "output_type": "execute_result"
        }
      ],
      "source": [
        "X.head()"
      ]
    },
    {
      "cell_type": "code",
      "execution_count": 15,
      "metadata": {
        "colab": {
          "base_uri": "https://localhost:8080/"
        },
        "id": "SI-Dr6GnLxbl",
        "outputId": "824356a0-4440-4f41-aa95-80085d0defdd"
      },
      "outputs": [
        {
          "name": "stdout",
          "output_type": "stream",
          "text": [
            "Categories in 'D Gender' variable:      ['Female' 'Male']\n",
            "Categories in 'D Cause of Death' variable:   ['Stroke' 'Other' 'Accident']\n",
            "Categories in 'R Etiology' variable: ['Other' 'Alcohol' 'Hepatitis' 'NAFLD' nan]\n",
            "Categories in 'R Gender' variable:      ['Female' 'Male' nan]\n",
            "Categories in 'R Immunosuppressant Medication' variable:      ['Cyclosporine' 'Tacrolimus' 'Other']\n",
            "Categories in 'Complications' variable:      ['Infection' 'Artery Thrombosis' 'Post-transplant Diabetes'\n",
            " 'Renal Dysfunction' 'No Complication' 'Primary Graft Non-function'\n",
            " 'Portal Vein Thrombosis' 'Biliary Complications'\n",
            " 'Metabolic Complications' 'Cardiovascular Complications' 'Rejection']\n"
          ]
        }
      ],
      "source": [
        "print(\"Categories in 'D Gender' variable:     \",end=\" \" )\n",
        "print(df['D Gender'].unique())\n",
        "\n",
        "print(\"Categories in 'D Cause of Death' variable:  \",end=\" \")\n",
        "print(df['D Cause of Death'].unique())\n",
        "\n",
        "print(\"Categories in 'R Etiology' variable:\",end=\" \" )\n",
        "print(df['R Etiology'].unique())\n",
        "\n",
        "print(\"Categories in 'R Gender' variable:     \",end=\" \" )\n",
        "print(df['R Gender'].unique())\n",
        "\n",
        "print(\"Categories in 'R Immunosuppressant Medication' variable:     \",end=\" \" )\n",
        "print(df['R Immunosuppressant Medication'].unique())\n",
        "\n",
        "print(\"Categories in 'Complications' variable:     \",end=\" \" )\n",
        "print(df['Complications'].unique())"
      ]
    },
    {
      "cell_type": "code",
      "execution_count": 16,
      "metadata": {
        "id": "-9_hdJIJL8Up"
      },
      "outputs": [],
      "source": [
        "y = df3['Complications']"
      ]
    },
    {
      "cell_type": "code",
      "execution_count": 17,
      "metadata": {
        "colab": {
          "base_uri": "https://localhost:8080/"
        },
        "id": "BoxkqGugL8RE",
        "outputId": "bfbb2147-f28d-4d46-8c9f-51f2b0930e3e"
      },
      "outputs": [
        {
          "data": {
            "text/plain": [
              "0                        Infection\n",
              "1                Artery Thrombosis\n",
              "2         Post-transplant Diabetes\n",
              "3         Post-transplant Diabetes\n",
              "4                Renal Dysfunction\n",
              "                   ...            \n",
              "1936         Biliary Complications\n",
              "1937    Primary Graft Non-function\n",
              "1939                     Infection\n",
              "1940        Portal Vein Thrombosis\n",
              "1941                     Infection\n",
              "Name: Complications, Length: 1938, dtype: object"
            ]
          },
          "execution_count": 17,
          "metadata": {},
          "output_type": "execute_result"
        }
      ],
      "source": [
        "y"
      ]
    },
    {
      "cell_type": "markdown",
      "metadata": {},
      "source": [
        "#### check y is Balanced or Imbalanced"
      ]
    },
    {
      "cell_type": "code",
      "execution_count": 18,
      "metadata": {
        "colab": {
          "base_uri": "https://localhost:8080/"
        },
        "id": "KP0zuL1UNDsf",
        "outputId": "8f67106a-6ebc-4592-e8ff-eb1c6c4cbf82"
      },
      "outputs": [
        {
          "name": "stdout",
          "output_type": "stream",
          "text": [
            "Complications\n",
            "No Complication                 253\n",
            "Post-transplant Diabetes        232\n",
            "Artery Thrombosis               222\n",
            "Biliary Complications           216\n",
            "Primary Graft Non-function      187\n",
            "Infection                       183\n",
            "Metabolic Complications         180\n",
            "Renal Dysfunction               174\n",
            "Portal Vein Thrombosis          126\n",
            "Rejection                        87\n",
            "Cardiovascular Complications     78\n",
            "Name: count, dtype: int64\n"
          ]
        }
      ],
      "source": [
        "# Target variable categories\n",
        "# print(df3['Complications'].unique())\n",
        "print(df3['Complications'].value_counts())"
      ]
    },
    {
      "cell_type": "markdown",
      "metadata": {},
      "source": [
        "#### Perform label encoding on y-categorical column"
      ]
    },
    {
      "cell_type": "code",
      "execution_count": 19,
      "metadata": {
        "id": "4X3-oao8QCRE"
      },
      "outputs": [],
      "source": [
        "label_encoder = LabelEncoder()\n",
        "Y = label_encoder.fit_transform(y)"
      ]
    },
    {
      "cell_type": "code",
      "execution_count": 20,
      "metadata": {
        "id": "NvYqvM1TL8Nk"
      },
      "outputs": [],
      "source": [
        "# Create Column Transformer with 3 types of transformers\n",
        "num_features = X.select_dtypes(exclude=\"object\").columns\n",
        "cat_features = X.select_dtypes(include=\"object\").columns\n",
        "\n",
        "from sklearn.preprocessing import OneHotEncoder, StandardScaler\n",
        "from sklearn.compose import ColumnTransformer\n",
        "\n",
        "numeric_transformer = StandardScaler()\n",
        "oh_transformer = OneHotEncoder()\n",
        "\n",
        "preprocessor = ColumnTransformer(\n",
        "    [\n",
        "        (\"OneHotEncoder\", oh_transformer, cat_features),\n",
        "         (\"StandardScaler\", numeric_transformer, num_features),\n",
        "    ]\n",
        ")"
      ]
    },
    {
      "cell_type": "code",
      "execution_count": 21,
      "metadata": {
        "id": "_iA3Jq3vMK5g"
      },
      "outputs": [],
      "source": [
        "X = preprocessor.fit_transform(X)"
      ]
    },
    {
      "cell_type": "code",
      "execution_count": 22,
      "metadata": {
        "colab": {
          "base_uri": "https://localhost:8080/"
        },
        "id": "2Csqjor6MK2n",
        "outputId": "7795163b-1f90-4a18-efdf-2e34779a06b7"
      },
      "outputs": [
        {
          "data": {
            "text/plain": [
              "(1938, 44)"
            ]
          },
          "execution_count": 22,
          "metadata": {},
          "output_type": "execute_result"
        }
      ],
      "source": [
        "X.shape"
      ]
    },
    {
      "cell_type": "markdown",
      "metadata": {},
      "source": [
        "#### Apply Smote to solve Imbalanced problem"
      ]
    },
    {
      "cell_type": "code",
      "execution_count": 23,
      "metadata": {
        "id": "Vecw0UzTNoxk"
      },
      "outputs": [],
      "source": [
        "smote = SMOTE()\n",
        "# Perform SMOTE on the scaled numerical features\n",
        "X_resampled, y_resampled = smote.fit_resample(X, Y)"
      ]
    },
    {
      "cell_type": "code",
      "execution_count": 24,
      "metadata": {
        "colab": {
          "base_uri": "https://localhost:8080/"
        },
        "id": "qt-LKh5oNj81",
        "outputId": "dd0d5e52-92fe-4f2a-f7ca-2f2d1ed01dab"
      },
      "outputs": [
        {
          "data": {
            "text/plain": [
              "(2783, 44)"
            ]
          },
          "execution_count": 24,
          "metadata": {},
          "output_type": "execute_result"
        }
      ],
      "source": [
        "X_resampled.shape"
      ]
    },
    {
      "cell_type": "code",
      "execution_count": 25,
      "metadata": {
        "colab": {
          "base_uri": "https://localhost:8080/"
        },
        "id": "_mz4SyD4Nju1",
        "outputId": "007b22d3-820c-4ade-adfc-63812d63a36c"
      },
      "outputs": [
        {
          "data": {
            "text/plain": [
              "(2783,)"
            ]
          },
          "execution_count": 25,
          "metadata": {},
          "output_type": "execute_result"
        }
      ],
      "source": [
        "y_resampled.shape"
      ]
    },
    {
      "cell_type": "code",
      "execution_count": 26,
      "metadata": {
        "colab": {
          "base_uri": "https://localhost:8080/"
        },
        "id": "si_x714JQ3zT",
        "outputId": "9f243b33-dcb6-494b-c2a5-c5fcdbb7dc8c"
      },
      "outputs": [
        {
          "data": {
            "text/plain": [
              "array([ 3,  0,  7, ..., 10, 10, 10])"
            ]
          },
          "execution_count": 26,
          "metadata": {},
          "output_type": "execute_result"
        }
      ],
      "source": [
        "#print(y_resampled.value_counts())\n",
        "y_resampled"
      ]
    },
    {
      "cell_type": "code",
      "execution_count": 27,
      "metadata": {
        "colab": {
          "base_uri": "https://localhost:8080/"
        },
        "id": "_erDJT5yMKzs",
        "outputId": "cec93023-972e-4090-e93f-0b88fd9d7522"
      },
      "outputs": [
        {
          "data": {
            "text/plain": [
              "((2226, 44), (557, 44))"
            ]
          },
          "execution_count": 27,
          "metadata": {},
          "output_type": "execute_result"
        }
      ],
      "source": [
        "# separate dataset into train and test\n",
        "from sklearn.model_selection import train_test_split\n",
        "X_train, X_test, y_train, y_test = train_test_split(X_resampled,y_resampled,test_size=0.2,random_state=42)\n",
        "X_train.shape, X_test.shape"
      ]
    },
    {
      "cell_type": "markdown",
      "metadata": {},
      "source": [
        "#### Create an Evaluate Function to give all metrics after model Training"
      ]
    },
    {
      "cell_type": "code",
      "execution_count": 28,
      "metadata": {
        "id": "RcKUfvbjMd4B"
      },
      "outputs": [],
      "source": [
        "def evaluate_model(true, predicted):\n",
        "    mae = mean_absolute_error(true, predicted)\n",
        "    mse = mean_squared_error(true, predicted)\n",
        "    rmse = np.sqrt(mean_squared_error(true, predicted))\n",
        "    r2_square = r2_score(true, predicted)\n",
        "    return mae, rmse, r2_square"
      ]
    },
    {
      "cell_type": "code",
      "execution_count": 29,
      "metadata": {
        "colab": {
          "base_uri": "https://localhost:8080/"
        },
        "id": "O5NAIODHMd03",
        "outputId": "c2a40d19-0383-42fb-b49f-1b79829ddc3d"
      },
      "outputs": [
        {
          "name": "stdout",
          "output_type": "stream",
          "text": [
            "Linear Regression\n",
            "Model performance for Training set\n",
            "- Root Mean Squared Error: 2.0640\n",
            "- Mean Absolute Error: 1.7006\n",
            "- R2 Score: 0.5776\n",
            "----------------------------------\n",
            "Model performance for Test set\n",
            "- Root Mean Squared Error: 2.1410\n",
            "- Mean Absolute Error: 1.7586\n",
            "- R2 Score: 0.5255\n",
            "===================================\n",
            "\n",
            "\n",
            "Lasso\n",
            "Model performance for Training set\n",
            "- Root Mean Squared Error: 2.8919\n",
            "- Mean Absolute Error: 2.5215\n",
            "- R2 Score: 0.1707\n",
            "----------------------------------\n",
            "Model performance for Test set\n",
            "- Root Mean Squared Error: 2.8393\n",
            "- Mean Absolute Error: 2.4782\n",
            "- R2 Score: 0.1655\n",
            "===================================\n",
            "\n",
            "\n",
            "Ridge\n",
            "Model performance for Training set\n",
            "- Root Mean Squared Error: 2.0467\n",
            "- Mean Absolute Error: 1.6804\n",
            "- R2 Score: 0.5846\n",
            "----------------------------------\n",
            "Model performance for Test set\n",
            "- Root Mean Squared Error: 2.1055\n",
            "- Mean Absolute Error: 1.7290\n",
            "- R2 Score: 0.5411\n",
            "===================================\n",
            "\n",
            "\n",
            "K-Neighbors Regressor\n",
            "Model performance for Training set\n",
            "- Root Mean Squared Error: 1.5467\n",
            "- Mean Absolute Error: 0.9748\n",
            "- R2 Score: 0.7628\n",
            "----------------------------------\n",
            "Model performance for Test set\n",
            "- Root Mean Squared Error: 1.9265\n",
            "- Mean Absolute Error: 1.2675\n",
            "- R2 Score: 0.6158\n",
            "===================================\n",
            "\n",
            "\n",
            "Decision Tree\n",
            "Model performance for Training set\n",
            "- Root Mean Squared Error: 0.0000\n",
            "- Mean Absolute Error: 0.0000\n",
            "- R2 Score: 1.0000\n",
            "----------------------------------\n",
            "Model performance for Test set\n",
            "- Root Mean Squared Error: 0.7720\n",
            "- Mean Absolute Error: 0.1221\n",
            "- R2 Score: 0.9383\n",
            "===================================\n",
            "\n",
            "\n",
            "Random Forest Regressor\n",
            "Model performance for Training set\n",
            "- Root Mean Squared Error: 0.1989\n",
            "- Mean Absolute Error: 0.0500\n",
            "- R2 Score: 0.9961\n",
            "----------------------------------\n",
            "Model performance for Test set\n",
            "- Root Mean Squared Error: 0.3315\n",
            "- Mean Absolute Error: 0.1031\n",
            "- R2 Score: 0.9886\n",
            "===================================\n",
            "\n",
            "\n",
            "XGBRegressor\n",
            "Model performance for Training set\n",
            "- Root Mean Squared Error: 0.0115\n",
            "- Mean Absolute Error: 0.0084\n",
            "- R2 Score: 1.0000\n",
            "----------------------------------\n",
            "Model performance for Test set\n",
            "- Root Mean Squared Error: 0.4077\n",
            "- Mean Absolute Error: 0.2255\n",
            "- R2 Score: 0.9828\n",
            "===================================\n",
            "\n",
            "\n",
            "CatBoosting Regressor\n",
            "Model performance for Training set\n",
            "- Root Mean Squared Error: 0.0840\n",
            "- Mean Absolute Error: 0.0580\n",
            "- R2 Score: 0.9993\n",
            "----------------------------------\n",
            "Model performance for Test set\n",
            "- Root Mean Squared Error: 0.3371\n",
            "- Mean Absolute Error: 0.2076\n",
            "- R2 Score: 0.9882\n",
            "===================================\n",
            "\n",
            "\n",
            "AdaBoost Regressor\n",
            "Model performance for Training set\n",
            "- Root Mean Squared Error: 1.9126\n",
            "- Mean Absolute Error: 1.6556\n",
            "- R2 Score: 0.6373\n",
            "----------------------------------\n",
            "Model performance for Test set\n",
            "- Root Mean Squared Error: 1.9459\n",
            "- Mean Absolute Error: 1.6641\n",
            "- R2 Score: 0.6080\n",
            "===================================\n",
            "\n",
            "\n"
          ]
        }
      ],
      "source": [
        "models = {\n",
        "    \"Linear Regression\": LinearRegression(),\n",
        "    \"Lasso\": Lasso(),\n",
        "    \"Ridge\": Ridge(),\n",
        "    \"K-Neighbors Regressor\": KNeighborsRegressor(),\n",
        "    \"Decision Tree\": DecisionTreeRegressor(),\n",
        "    \"Random Forest Regressor\": RandomForestRegressor(),\n",
        "    \"XGBRegressor\": XGBRegressor(),\n",
        "    \"CatBoosting Regressor\": CatBoostRegressor(verbose=False),\n",
        "    \"AdaBoost Regressor\": AdaBoostRegressor()\n",
        "}\n",
        "model_list = []\n",
        "r2_list =[]\n",
        "\n",
        "for i in range(len(list(models))):\n",
        "    model = list(models.values())[i]\n",
        "    model.fit(X_train, y_train) # Train model\n",
        "\n",
        "    # Make predictions\n",
        "    y_train_pred = model.predict(X_train)\n",
        "    y_test_pred = model.predict(X_test)\n",
        "\n",
        "    # Evaluate Train and Test dataset\n",
        "    model_train_mae , model_train_rmse, model_train_r2 = evaluate_model(y_train, y_train_pred)\n",
        "\n",
        "    model_test_mae , model_test_rmse, model_test_r2 = evaluate_model(y_test, y_test_pred)\n",
        "\n",
        "\n",
        "    print(list(models.keys())[i])\n",
        "    model_list.append(list(models.keys())[i])\n",
        "\n",
        "    print('Model performance for Training set')\n",
        "    print(\"- Root Mean Squared Error: {:.4f}\".format(model_train_rmse))\n",
        "    print(\"- Mean Absolute Error: {:.4f}\".format(model_train_mae))\n",
        "    print(\"- R2 Score: {:.4f}\".format(model_train_r2))\n",
        "\n",
        "    print('----------------------------------')\n",
        "\n",
        "    print('Model performance for Test set')\n",
        "    print(\"- Root Mean Squared Error: {:.4f}\".format(model_test_rmse))\n",
        "    print(\"- Mean Absolute Error: {:.4f}\".format(model_test_mae))\n",
        "    print(\"- R2 Score: {:.4f}\".format(model_test_r2))\n",
        "    r2_list.append(model_test_r2)\n",
        "\n",
        "    print('='*35)\n",
        "    print('\\n')"
      ]
    },
    {
      "cell_type": "markdown",
      "metadata": {},
      "source": [
        "### Results"
      ]
    },
    {
      "cell_type": "code",
      "execution_count": 30,
      "metadata": {
        "colab": {
          "base_uri": "https://localhost:8080/",
          "height": 331
        },
        "id": "uM-Zu8vPMdx9",
        "outputId": "6c3198a5-eff8-447c-eb1c-e60597e6a00d"
      },
      "outputs": [
        {
          "data": {
            "text/html": [
              "<div>\n",
              "<style scoped>\n",
              "    .dataframe tbody tr th:only-of-type {\n",
              "        vertical-align: middle;\n",
              "    }\n",
              "\n",
              "    .dataframe tbody tr th {\n",
              "        vertical-align: top;\n",
              "    }\n",
              "\n",
              "    .dataframe thead th {\n",
              "        text-align: right;\n",
              "    }\n",
              "</style>\n",
              "<table border=\"1\" class=\"dataframe\">\n",
              "  <thead>\n",
              "    <tr style=\"text-align: right;\">\n",
              "      <th></th>\n",
              "      <th>Model Name</th>\n",
              "      <th>R2_Score</th>\n",
              "    </tr>\n",
              "  </thead>\n",
              "  <tbody>\n",
              "    <tr>\n",
              "      <th>5</th>\n",
              "      <td>Random Forest Regressor</td>\n",
              "      <td>0.988622</td>\n",
              "    </tr>\n",
              "    <tr>\n",
              "      <th>7</th>\n",
              "      <td>CatBoosting Regressor</td>\n",
              "      <td>0.988236</td>\n",
              "    </tr>\n",
              "    <tr>\n",
              "      <th>6</th>\n",
              "      <td>XGBRegressor</td>\n",
              "      <td>0.982795</td>\n",
              "    </tr>\n",
              "    <tr>\n",
              "      <th>4</th>\n",
              "      <td>Decision Tree</td>\n",
              "      <td>0.938297</td>\n",
              "    </tr>\n",
              "    <tr>\n",
              "      <th>3</th>\n",
              "      <td>K-Neighbors Regressor</td>\n",
              "      <td>0.615790</td>\n",
              "    </tr>\n",
              "    <tr>\n",
              "      <th>8</th>\n",
              "      <td>AdaBoost Regressor</td>\n",
              "      <td>0.608002</td>\n",
              "    </tr>\n",
              "    <tr>\n",
              "      <th>2</th>\n",
              "      <td>Ridge</td>\n",
              "      <td>0.541062</td>\n",
              "    </tr>\n",
              "    <tr>\n",
              "      <th>0</th>\n",
              "      <td>Linear Regression</td>\n",
              "      <td>0.525498</td>\n",
              "    </tr>\n",
              "    <tr>\n",
              "      <th>1</th>\n",
              "      <td>Lasso</td>\n",
              "      <td>0.165471</td>\n",
              "    </tr>\n",
              "  </tbody>\n",
              "</table>\n",
              "</div>"
            ],
            "text/plain": [
              "                Model Name  R2_Score\n",
              "5  Random Forest Regressor  0.988622\n",
              "7    CatBoosting Regressor  0.988236\n",
              "6             XGBRegressor  0.982795\n",
              "4            Decision Tree  0.938297\n",
              "3    K-Neighbors Regressor  0.615790\n",
              "8       AdaBoost Regressor  0.608002\n",
              "2                    Ridge  0.541062\n",
              "0        Linear Regression  0.525498\n",
              "1                    Lasso  0.165471"
            ]
          },
          "execution_count": 30,
          "metadata": {},
          "output_type": "execute_result"
        }
      ],
      "source": [
        "result_df = pd.DataFrame(list(zip(model_list, r2_list)), columns=['Model Name', 'R2_Score']).sort_values(by=[\"R2_Score\"], ascending=False)\n",
        "result_df"
      ]
    },
    {
      "cell_type": "code",
      "execution_count": 31,
      "metadata": {},
      "outputs": [
        {
          "name": "stdout",
          "output_type": "stream",
          "text": [
            "Best Model: Random Forest Regressor\n",
            "Best R2 Score: 0.9886216881126142\n"
          ]
        }
      ],
      "source": [
        "# Print the best model and its R2 score\n",
        "best_model_name = result_df.iloc[0]['Model Name']\n",
        "best_r2_score = result_df.iloc[0]['R2_Score']\n",
        "print(\"Best Model:\", best_model_name)\n",
        "print(\"Best R2 Score:\", best_r2_score)"
      ]
    },
    {
      "cell_type": "markdown",
      "metadata": {},
      "source": [
        "## Random Forest Regressor"
      ]
    },
    {
      "cell_type": "code",
      "execution_count": 32,
      "metadata": {
        "colab": {
          "base_uri": "https://localhost:8080/"
        },
        "id": "s1Jgh6RTRLnP",
        "outputId": "dc1744d7-c7ce-4a5b-ea8b-5b785d5dd160"
      },
      "outputs": [
        {
          "name": "stdout",
          "output_type": "stream",
          "text": [
            "Accuracy of the model is 98.89\n"
          ]
        }
      ],
      "source": [
        "# Create and fit a Random Forest Regressor model\n",
        "RAND_model = RandomForestRegressor()\n",
        "RAND_model.fit(X_train, y_train)\n",
        "\n",
        "# Predict on the test set\n",
        "y_pred = RAND_model.predict(X_test)\n",
        "\n",
        "# Calculate the R2 score (accuracy) of the model\n",
        "score = r2_score(y_test, y_pred) * 100\n",
        "print(\"Accuracy of the model is %.2f\" % score)"
      ]
    },
    {
      "cell_type": "markdown",
      "metadata": {},
      "source": [
        "## Plot y_pred and y_test"
      ]
    },
    {
      "cell_type": "code",
      "execution_count": 33,
      "metadata": {
        "colab": {
          "base_uri": "https://localhost:8080/",
          "height": 449
        },
        "id": "Zk-fOfF0RLj2",
        "outputId": "82946a47-8400-45fd-85db-476eaf04d5fa"
      },
      "outputs": [
        {
          "data": {
            "image/png": "[encoded data removed]",
            "text/plain": [
              "<Figure size 640x480 with 1 Axes>"
            ]
          },
          "metadata": {},
          "output_type": "display_data"
        }
      ],
      "source": [
        "plt.scatter(y_test,y_pred);\n",
        "plt.xlabel('Actual');\n",
        "plt.ylabel('Predicted');"
      ]
    },
    {
      "cell_type": "code",
      "execution_count": 34,
      "metadata": {
        "colab": {
          "base_uri": "https://localhost:8080/",
          "height": 430
        },
        "id": "nsRzzVZHRLgd",
        "outputId": "2c5d15f6-90cc-4f97-d0ff-b22909db634a"
      },
      "outputs": [
        {
          "data": {
            "image/png": "[encoded data removed]",
            "text/plain": [
              "<Figure size 640x480 with 1 Axes>"
            ]
          },
          "metadata": {},
          "output_type": "display_data"
        }
      ],
      "source": [
        "sns.regplot(x=y_test,y=y_pred,ci=None,color ='red');"
      ]
    },
    {
      "cell_type": "markdown",
      "metadata": {},
      "source": [
        "#### Difference between Actual and Predicted Values"
      ]
    },
    {
      "cell_type": "code",
      "execution_count": 35,
      "metadata": {
        "colab": {
          "base_uri": "https://localhost:8080/",
          "height": 423
        },
        "id": "vP5HVq1rR23v",
        "outputId": "4987445d-60b6-4434-bd5d-e95f3813419a"
      },
      "outputs": [
        {
          "data": {
            "text/html": [
              "<div>\n",
              "<style scoped>\n",
              "    .dataframe tbody tr th:only-of-type {\n",
              "        vertical-align: middle;\n",
              "    }\n",
              "\n",
              "    .dataframe tbody tr th {\n",
              "        vertical-align: top;\n",
              "    }\n",
              "\n",
              "    .dataframe thead th {\n",
              "        text-align: right;\n",
              "    }\n",
              "</style>\n",
              "<table border=\"1\" class=\"dataframe\">\n",
              "  <thead>\n",
              "    <tr style=\"text-align: right;\">\n",
              "      <th></th>\n",
              "      <th>Actual Value</th>\n",
              "      <th>Predicted Value</th>\n",
              "      <th>Difference</th>\n",
              "    </tr>\n",
              "  </thead>\n",
              "  <tbody>\n",
              "    <tr>\n",
              "      <th>0</th>\n",
              "      <td>7</td>\n",
              "      <td>6.63</td>\n",
              "      <td>0.37</td>\n",
              "    </tr>\n",
              "    <tr>\n",
              "      <th>1</th>\n",
              "      <td>9</td>\n",
              "      <td>9.00</td>\n",
              "      <td>0.00</td>\n",
              "    </tr>\n",
              "    <tr>\n",
              "      <th>2</th>\n",
              "      <td>6</td>\n",
              "      <td>6.00</td>\n",
              "      <td>0.00</td>\n",
              "    </tr>\n",
              "    <tr>\n",
              "      <th>3</th>\n",
              "      <td>3</td>\n",
              "      <td>3.00</td>\n",
              "      <td>0.00</td>\n",
              "    </tr>\n",
              "    <tr>\n",
              "      <th>4</th>\n",
              "      <td>3</td>\n",
              "      <td>3.00</td>\n",
              "      <td>0.00</td>\n",
              "    </tr>\n",
              "    <tr>\n",
              "      <th>...</th>\n",
              "      <td>...</td>\n",
              "      <td>...</td>\n",
              "      <td>...</td>\n",
              "    </tr>\n",
              "    <tr>\n",
              "      <th>552</th>\n",
              "      <td>0</td>\n",
              "      <td>0.00</td>\n",
              "      <td>0.00</td>\n",
              "    </tr>\n",
              "    <tr>\n",
              "      <th>553</th>\n",
              "      <td>4</td>\n",
              "      <td>3.96</td>\n",
              "      <td>0.04</td>\n",
              "    </tr>\n",
              "    <tr>\n",
              "      <th>554</th>\n",
              "      <td>5</td>\n",
              "      <td>5.00</td>\n",
              "      <td>0.00</td>\n",
              "    </tr>\n",
              "    <tr>\n",
              "      <th>555</th>\n",
              "      <td>10</td>\n",
              "      <td>10.00</td>\n",
              "      <td>0.00</td>\n",
              "    </tr>\n",
              "    <tr>\n",
              "      <th>556</th>\n",
              "      <td>1</td>\n",
              "      <td>1.00</td>\n",
              "      <td>0.00</td>\n",
              "    </tr>\n",
              "  </tbody>\n",
              "</table>\n",
              "<p>557 rows × 3 columns</p>\n",
              "</div>"
            ],
            "text/plain": [
              "     Actual Value  Predicted Value  Difference\n",
              "0               7             6.63        0.37\n",
              "1               9             9.00        0.00\n",
              "2               6             6.00        0.00\n",
              "3               3             3.00        0.00\n",
              "4               3             3.00        0.00\n",
              "..            ...              ...         ...\n",
              "552             0             0.00        0.00\n",
              "553             4             3.96        0.04\n",
              "554             5             5.00        0.00\n",
              "555            10            10.00        0.00\n",
              "556             1             1.00        0.00\n",
              "\n",
              "[557 rows x 3 columns]"
            ]
          },
          "execution_count": 35,
          "metadata": {},
          "output_type": "execute_result"
        }
      ],
      "source": [
        "pred_df=pd.DataFrame({'Actual Value':y_test,'Predicted Value':y_pred,'Difference':y_test-y_pred})\n",
        "pred_df"
      ]
    },
    {
      "cell_type": "markdown",
      "metadata": {},
      "source": [
        "### Deploy in Flask"
      ]
    },
    {
      "cell_type": "code",
      "execution_count": 36,
      "metadata": {},
      "outputs": [],
      "source": [
        "\n",
        "import pickle\n",
        "# Saving model to disk of random forest\n",
        "pickle.dump(RAND_model, open('model.pkl','wb'))\n",
        "\n",
        "model=pickle.load(open('model.pkl', 'rb'))\n",
        "\n"
      ]
    },
    {
      "cell_type": "code",
      "execution_count": null,
      "metadata": {},
      "outputs": [],
      "source": []
    }
  ],
  "metadata": {
    "colab": {
      "provenance": []
    },
    "kernelspec": {
      "display_name": "Python 3",
      "name": "python3"
    },
    "language_info": {
      "codemirror_mode": {
        "name": "ipython",
        "version": 3
      },
      "file_extension": ".py",
      "mimetype": "text/x-python",
      "name": "python",
      "nbconvert_exporter": "python",
      "pygments_lexer": "ipython3",
      "version": "3.8.17"
    }
  },
  "nbformat": 4,
  "nbformat_minor": 0
}
